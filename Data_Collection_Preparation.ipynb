{
 "cells": [
  {
   "cell_type": "code",
   "execution_count": 1,
   "metadata": {},
   "outputs": [],
   "source": [
    "## Trying Pandas\n",
    "import pandas as pd\n",
    "df = pd.read_csv(\"OPENDATA_BOOKING_CALL_A_BIKE.csv\", delimiter=\";\")"
   ]
  },
  {
   "cell_type": "code",
   "execution_count": 2,
   "metadata": {},
   "outputs": [
    {
     "name": "stderr",
     "output_type": "stream",
     "text": [
      "C:\\Users\\M\\Anaconda3\\lib\\site-packages\\ipykernel_launcher.py:19: SettingWithCopyWarning: \n",
      "A value is trying to be set on a copy of a slice from a DataFrame.\n",
      "Try using .loc[row_indexer,col_indexer] = value instead\n",
      "\n",
      "See the caveats in the documentation: http://pandas.pydata.org/pandas-docs/stable/indexing.html#indexing-view-versus-copy\n"
     ]
    }
   ],
   "source": [
    "## Gibt die ersten Zeilen aus\n",
    "# df.head()\n",
    "\n",
    "## Gibt Länge des Dataframes an\n",
    "# len(df)\n",
    "\n",
    "## Hole Eintrag 0\n",
    "# entry = df.iloc[0]\n",
    "# print(entry)\n",
    "\n",
    "## Durchlaufen (Tuple-Problematik)\n",
    "# for pos, d in df.iterrows():\n",
    "    # print(d)\n",
    "    # print(d[CITY_RENTAL_ZONE])\n",
    "    # break;\n",
    "\n",
    "## Daten filtern\n",
    "df2 = df[df[\"CITY_RENTAL_ZONE\"] == \"Marburg\"]\n",
    "df2['Year'] = pd.DatetimeIndex(df2[\"DATE_BOOKING\"]).year\n",
    "df3 = df2[df2['Year'] == 2014]\n",
    "df4 = df2[df2['Year'] == 2015]\n",
    "frame_concatenating = [df3, df4]\n",
    "team_aa_data = pd.concat(frame_concatenating)"
   ]
  },
  {
   "cell_type": "code",
   "execution_count": 4,
   "metadata": {},
   "outputs": [
    {
     "name": "stdout",
     "output_type": "stream",
     "text": [
      "BOOKING_HAL_ID               151270\n",
      "CATEGORY_HAL_ID              151270\n",
      "VEHICLE_HAL_ID               151270\n",
      "CUSTOMER_HAL_ID              151270\n",
      "DATE_BOOKING                 151270\n",
      "DATE_FROM                    151270\n",
      "DATE_UNTIL                   151270\n",
      "COMPUTE_EXTRA_BOOKING_FEE    151270\n",
      "TRAVERSE_USE                 151270\n",
      "DISTANCE                     151270\n",
      "START_RENTAL_ZONE            116254\n",
      "START_RENTAL_ZONE_HAL_ID     126085\n",
      "END_RENTAL_ZONE              115903\n",
      "END_RENTAL_ZONE_HAL_ID       125699\n",
      "RENTAL_ZONE_HAL_SRC          143213\n",
      "CITY_RENTAL_ZONE             151270\n",
      "TECHNICAL_INCOME_CHANNEL     150314\n",
      "Year                         151270\n",
      "dtype: int64\n"
     ]
    },
    {
     "data": {
      "text/plain": [
       "151270"
      ]
     },
     "execution_count": 4,
     "metadata": {},
     "output_type": "execute_result"
    }
   ],
   "source": []
  },
  {
   "cell_type": "code",
   "execution_count": 20,
   "metadata": {},
   "outputs": [],
   "source": [
    "## Datensatz aufbereiten\n",
    "\n",
    "# Monat einfügen\n",
    "team_aa_data['Month'] = pd.DatetimeIndex(team_aa_data[\"DATE_BOOKING\"]).month\n",
    "\n",
    "# Tag einfügen\n",
    "team_aa_data['Day'] = pd.DatetimeIndex(team_aa_data[\"DATE_BOOKING\"]).day\n"
   ]
  },
  {
   "cell_type": "code",
   "execution_count": 10,
   "metadata": {},
   "outputs": [
    {
     "name": "stdout",
     "output_type": "stream",
     "text": [
      "BOOKING_HAL_ID               151270\n",
      "CATEGORY_HAL_ID              151270\n",
      "VEHICLE_HAL_ID               151270\n",
      "CUSTOMER_HAL_ID              151270\n",
      "DATE_BOOKING                 151270\n",
      "DATE_FROM                    151270\n",
      "DATE_UNTIL                   151270\n",
      "COMPUTE_EXTRA_BOOKING_FEE    151270\n",
      "TRAVERSE_USE                 151270\n",
      "DISTANCE                     151270\n",
      "START_RENTAL_ZONE            116254\n",
      "START_RENTAL_ZONE_HAL_ID     126085\n",
      "END_RENTAL_ZONE              115903\n",
      "END_RENTAL_ZONE_HAL_ID       125699\n",
      "RENTAL_ZONE_HAL_SRC          143213\n",
      "CITY_RENTAL_ZONE             151270\n",
      "TECHNICAL_INCOME_CHANNEL     150314\n",
      "Year                         151270\n",
      "Monat                        151270\n",
      "Day                          151270\n",
      "dtype: int64\n"
     ]
    },
    {
     "data": {
      "text/plain": [
       "151270"
      ]
     },
     "execution_count": 10,
     "metadata": {},
     "output_type": "execute_result"
    }
   ],
   "source": [
    "## Data Analytics\n",
    "\n",
    "# Datenübersicht (Anzahl der Einträge) für die Erkennung unvollständiger Daten\n",
    "print(team_aa_data.count())\n",
    "\n",
    "# Anzahl der Einträge im DataFrame = Anzahl der Buchungen = Anzahl der Fahrten 2014 und 2015\n",
    "len(team_aa_data)\n",
    "\n"
   ]
  },
  {
   "cell_type": "code",
   "execution_count": 11,
   "metadata": {},
   "outputs": [
    {
     "data": {
      "text/html": [
       "<div>\n",
       "<style scoped>\n",
       "    .dataframe tbody tr th:only-of-type {\n",
       "        vertical-align: middle;\n",
       "    }\n",
       "\n",
       "    .dataframe tbody tr th {\n",
       "        vertical-align: top;\n",
       "    }\n",
       "\n",
       "    .dataframe thead th {\n",
       "        text-align: right;\n",
       "    }\n",
       "</style>\n",
       "<table border=\"1\" class=\"dataframe\">\n",
       "  <thead>\n",
       "    <tr style=\"text-align: right;\">\n",
       "      <th></th>\n",
       "      <th>BOOKING_HAL_ID</th>\n",
       "      <th>CATEGORY_HAL_ID</th>\n",
       "      <th>VEHICLE_HAL_ID</th>\n",
       "      <th>CUSTOMER_HAL_ID</th>\n",
       "      <th>DATE_BOOKING</th>\n",
       "      <th>DATE_FROM</th>\n",
       "      <th>DATE_UNTIL</th>\n",
       "      <th>COMPUTE_EXTRA_BOOKING_FEE</th>\n",
       "      <th>TRAVERSE_USE</th>\n",
       "      <th>DISTANCE</th>\n",
       "      <th>START_RENTAL_ZONE</th>\n",
       "      <th>START_RENTAL_ZONE_HAL_ID</th>\n",
       "      <th>END_RENTAL_ZONE</th>\n",
       "      <th>END_RENTAL_ZONE_HAL_ID</th>\n",
       "      <th>RENTAL_ZONE_HAL_SRC</th>\n",
       "      <th>CITY_RENTAL_ZONE</th>\n",
       "      <th>TECHNICAL_INCOME_CHANNEL</th>\n",
       "      <th>Year</th>\n",
       "      <th>Monat</th>\n",
       "      <th>Day</th>\n",
       "    </tr>\n",
       "  </thead>\n",
       "  <tbody>\n",
       "    <tr>\n",
       "      <th>602191</th>\n",
       "      <td>22399800</td>\n",
       "      <td>50000</td>\n",
       "      <td>106822</td>\n",
       "      <td>9D1999D1B51ADB8E6C9967AA0625D9C4ECFE6845</td>\n",
       "      <td>2014-03-31 18:59:08</td>\n",
       "      <td>2014-03-31 18:59:08</td>\n",
       "      <td>2014-03-31 19:22:54</td>\n",
       "      <td>Nein</td>\n",
       "      <td>Nein</td>\n",
       "      <td>0.0</td>\n",
       "      <td>Universitätsstraße / Fachbereich Rechtswissens...</td>\n",
       "      <td>233821.0</td>\n",
       "      <td>Hörsaalgebäude / Biegenstraße</td>\n",
       "      <td>233819.0</td>\n",
       "      <td>Standort</td>\n",
       "      <td>Marburg</td>\n",
       "      <td>Android CAB</td>\n",
       "      <td>2014</td>\n",
       "      <td>3</td>\n",
       "      <td>31</td>\n",
       "    </tr>\n",
       "    <tr>\n",
       "      <th>606039</th>\n",
       "      <td>22402037</td>\n",
       "      <td>50000</td>\n",
       "      <td>106822</td>\n",
       "      <td>183E34ABBCBCB90637EA474DB1E7B7F0D1808951</td>\n",
       "      <td>2014-03-31 21:05:53</td>\n",
       "      <td>2014-03-31 21:05:53</td>\n",
       "      <td>2014-03-31 21:30:12</td>\n",
       "      <td>Nein</td>\n",
       "      <td>Nein</td>\n",
       "      <td>0.0</td>\n",
       "      <td>Hörsaalgebäude / Biegenstraße</td>\n",
       "      <td>233819.0</td>\n",
       "      <td>Hörsaalgebäude / Biegenstraße</td>\n",
       "      <td>233819.0</td>\n",
       "      <td>Standort</td>\n",
       "      <td>Marburg</td>\n",
       "      <td>Android CAB</td>\n",
       "      <td>2014</td>\n",
       "      <td>3</td>\n",
       "      <td>31</td>\n",
       "    </tr>\n",
       "    <tr>\n",
       "      <th>609307</th>\n",
       "      <td>22407790</td>\n",
       "      <td>50000</td>\n",
       "      <td>106822</td>\n",
       "      <td>183E34ABBCBCB90637EA474DB1E7B7F0D1808951</td>\n",
       "      <td>2014-04-01 09:57:41</td>\n",
       "      <td>2014-04-01 09:57:41</td>\n",
       "      <td>2014-04-01 10:03:20</td>\n",
       "      <td>Nein</td>\n",
       "      <td>Nein</td>\n",
       "      <td>0.0</td>\n",
       "      <td>Gutenbergstraße / Fachbereich Psychologie</td>\n",
       "      <td>233823.0</td>\n",
       "      <td>Elisabeth-Blochmann-Platz / Mensa</td>\n",
       "      <td>233820.0</td>\n",
       "      <td>Standort</td>\n",
       "      <td>Marburg</td>\n",
       "      <td>Android CAB</td>\n",
       "      <td>2014</td>\n",
       "      <td>4</td>\n",
       "      <td>1</td>\n",
       "    </tr>\n",
       "    <tr>\n",
       "      <th>612112</th>\n",
       "      <td>22409583</td>\n",
       "      <td>50000</td>\n",
       "      <td>107010</td>\n",
       "      <td>B8346FE76AB668E8A3F5CD7882C8535A1871C806</td>\n",
       "      <td>2014-04-01 11:59:31</td>\n",
       "      <td>2014-04-01 11:59:31</td>\n",
       "      <td>2014-04-01 12:04:15</td>\n",
       "      <td>Nein</td>\n",
       "      <td>Nein</td>\n",
       "      <td>0.0</td>\n",
       "      <td>Hörsaalgebäude / Biegenstraße</td>\n",
       "      <td>233819.0</td>\n",
       "      <td>Universitätsstraße / Fachbereich Rechtswissens...</td>\n",
       "      <td>233821.0</td>\n",
       "      <td>Standort</td>\n",
       "      <td>Marburg</td>\n",
       "      <td>iPhone CAB</td>\n",
       "      <td>2014</td>\n",
       "      <td>4</td>\n",
       "      <td>1</td>\n",
       "    </tr>\n",
       "    <tr>\n",
       "      <th>612322</th>\n",
       "      <td>22411715</td>\n",
       "      <td>50000</td>\n",
       "      <td>106580</td>\n",
       "      <td>B8346FE76AB668E8A3F5CD7882C8535A1871C806</td>\n",
       "      <td>2014-04-01 13:54:22</td>\n",
       "      <td>2014-04-01 13:54:22</td>\n",
       "      <td>2014-04-01 14:04:45</td>\n",
       "      <td>Nein</td>\n",
       "      <td>Nein</td>\n",
       "      <td>0.0</td>\n",
       "      <td>PhilFak/Universitätsbibliothek</td>\n",
       "      <td>233825.0</td>\n",
       "      <td>Ortenbergplatz</td>\n",
       "      <td>233826.0</td>\n",
       "      <td>Standort</td>\n",
       "      <td>Marburg</td>\n",
       "      <td>iPhone CAB</td>\n",
       "      <td>2014</td>\n",
       "      <td>4</td>\n",
       "      <td>1</td>\n",
       "    </tr>\n",
       "  </tbody>\n",
       "</table>\n",
       "</div>"
      ],
      "text/plain": [
       "        BOOKING_HAL_ID  CATEGORY_HAL_ID  VEHICLE_HAL_ID  \\\n",
       "602191        22399800            50000          106822   \n",
       "606039        22402037            50000          106822   \n",
       "609307        22407790            50000          106822   \n",
       "612112        22409583            50000          107010   \n",
       "612322        22411715            50000          106580   \n",
       "\n",
       "                                 CUSTOMER_HAL_ID         DATE_BOOKING  \\\n",
       "602191  9D1999D1B51ADB8E6C9967AA0625D9C4ECFE6845  2014-03-31 18:59:08   \n",
       "606039  183E34ABBCBCB90637EA474DB1E7B7F0D1808951  2014-03-31 21:05:53   \n",
       "609307  183E34ABBCBCB90637EA474DB1E7B7F0D1808951  2014-04-01 09:57:41   \n",
       "612112  B8346FE76AB668E8A3F5CD7882C8535A1871C806  2014-04-01 11:59:31   \n",
       "612322  B8346FE76AB668E8A3F5CD7882C8535A1871C806  2014-04-01 13:54:22   \n",
       "\n",
       "                  DATE_FROM           DATE_UNTIL COMPUTE_EXTRA_BOOKING_FEE  \\\n",
       "602191  2014-03-31 18:59:08  2014-03-31 19:22:54                      Nein   \n",
       "606039  2014-03-31 21:05:53  2014-03-31 21:30:12                      Nein   \n",
       "609307  2014-04-01 09:57:41  2014-04-01 10:03:20                      Nein   \n",
       "612112  2014-04-01 11:59:31  2014-04-01 12:04:15                      Nein   \n",
       "612322  2014-04-01 13:54:22  2014-04-01 14:04:45                      Nein   \n",
       "\n",
       "       TRAVERSE_USE  DISTANCE  \\\n",
       "602191         Nein       0.0   \n",
       "606039         Nein       0.0   \n",
       "609307         Nein       0.0   \n",
       "612112         Nein       0.0   \n",
       "612322         Nein       0.0   \n",
       "\n",
       "                                        START_RENTAL_ZONE  \\\n",
       "602191  Universitätsstraße / Fachbereich Rechtswissens...   \n",
       "606039                      Hörsaalgebäude / Biegenstraße   \n",
       "609307          Gutenbergstraße / Fachbereich Psychologie   \n",
       "612112                      Hörsaalgebäude / Biegenstraße   \n",
       "612322                     PhilFak/Universitätsbibliothek   \n",
       "\n",
       "        START_RENTAL_ZONE_HAL_ID  \\\n",
       "602191                  233821.0   \n",
       "606039                  233819.0   \n",
       "609307                  233823.0   \n",
       "612112                  233819.0   \n",
       "612322                  233825.0   \n",
       "\n",
       "                                          END_RENTAL_ZONE  \\\n",
       "602191                      Hörsaalgebäude / Biegenstraße   \n",
       "606039                      Hörsaalgebäude / Biegenstraße   \n",
       "609307                  Elisabeth-Blochmann-Platz / Mensa   \n",
       "612112  Universitätsstraße / Fachbereich Rechtswissens...   \n",
       "612322                                     Ortenbergplatz   \n",
       "\n",
       "        END_RENTAL_ZONE_HAL_ID RENTAL_ZONE_HAL_SRC CITY_RENTAL_ZONE  \\\n",
       "602191                233819.0            Standort          Marburg   \n",
       "606039                233819.0            Standort          Marburg   \n",
       "609307                233820.0            Standort          Marburg   \n",
       "612112                233821.0            Standort          Marburg   \n",
       "612322                233826.0            Standort          Marburg   \n",
       "\n",
       "       TECHNICAL_INCOME_CHANNEL  Year  Monat  Day  \n",
       "602191              Android CAB  2014      3   31  \n",
       "606039              Android CAB  2014      3   31  \n",
       "609307              Android CAB  2014      4    1  \n",
       "612112               iPhone CAB  2014      4    1  \n",
       "612322               iPhone CAB  2014      4    1  "
      ]
     },
     "execution_count": 11,
     "metadata": {},
     "output_type": "execute_result"
    }
   ],
   "source": [
    "team_aa_data.head()"
   ]
  },
  {
   "cell_type": "code",
   "execution_count": 42,
   "metadata": {},
   "outputs": [
    {
     "data": {
      "text/plain": [
       "[]"
      ]
     },
     "execution_count": 42,
     "metadata": {},
     "output_type": "execute_result"
    },
    {
     "data": {
      "image/png": "[encoded data removed]",
      "text/plain": [
       "<Figure size 432x288 with 1 Axes>"
      ]
     },
     "metadata": {
      "needs_background": "light"
     },
     "output_type": "display_data"
    }
   ],
   "source": [
    "# Buchungen in 2014 nach Monaten\n",
    "\n",
    "import matplotlib.pyplot as plt\n",
    "\n",
    "team_aa_data_2014 = team_aa_data[team_aa_data['Year'] == 2014]\n",
    "bookingid = team_aa_data_2014[\"BOOKING_HAL_ID\"]\n",
    "\n",
    "month = team_aa_data_2014[\"Month\"]\n",
    "\n",
    "bookings_per_month = []\n",
    "for i in range(1,13):\n",
    "    Bookingstotal = team_aa_data_2014[team_aa_data_2014['Month'] == i]\n",
    "    bookings_per_month.append(len(Bookingstotal))\n",
    "    \n",
    "month = []\n",
    "for i in range (1,13):\n",
    "    month.append(i)\n",
    "    \n",
    "s = pd.Series(bookings_per_month, index=month)\n",
    "s.plot(kind=\"bar\", rot=0)\n",
    "plt.plot()\n"
   ]
  },
  {
   "cell_type": "code",
   "execution_count": 43,
   "metadata": {},
   "outputs": [
    {
     "data": {
      "text/plain": [
       "[]"
      ]
     },
     "execution_count": 43,
     "metadata": {},
     "output_type": "execute_result"
    },
    {
     "data": {
      "image/png": "[encoded data removed]",
      "text/plain": [
       "<Figure size 432x288 with 1 Axes>"
      ]
     },
     "metadata": {
      "needs_background": "light"
     },
     "output_type": "display_data"
    }
   ],
   "source": [
    "# Buchungen in 2015 nach Monaten\n",
    "\n",
    "import matplotlib.pyplot as plt\n",
    "\n",
    "team_aa_data_2014 = team_aa_data[team_aa_data['Year'] == 2015]\n",
    "bookingid = team_aa_data_2014[\"BOOKING_HAL_ID\"]\n",
    "\n",
    "month = team_aa_data_2014[\"Month\"]\n",
    "\n",
    "bookings_per_month = []\n",
    "for i in range(1,13):\n",
    "    Bookingstotal = team_aa_data_2014[team_aa_data_2014['Month'] == i]\n",
    "    bookings_per_month.append(len(Bookingstotal))\n",
    "    \n",
    "month = []\n",
    "for i in range (1,13):\n",
    "    month.append(i)\n",
    "    \n",
    "s = pd.Series(bookings_per_month, index=month)\n",
    "s.plot(kind=\"bar\", rot=0)\n",
    "plt.plot()\n"
   ]
  },
  {
   "cell_type": "code",
   "execution_count": 40,
   "metadata": {},
   "outputs": [
    {
     "data": {
      "text/plain": [
       "[]"
      ]
     },
     "execution_count": 40,
     "metadata": {},
     "output_type": "execute_result"
    },
    {
     "data": {
      "image/png": "[encoded data removed]",
      "text/plain": [
       "<Figure size 432x288 with 1 Axes>"
      ]
     },
     "metadata": {
      "needs_background": "light"
     },
     "output_type": "display_data"
    }
   ],
   "source": [
    "# Buchungen in 2014 und 2015 nach Monaten\n",
    "\n",
    "import matplotlib.pyplot as plt\n",
    "\n",
    "bookingid = team_aa_data[\"BOOKING_HAL_ID\"]\n",
    "month = team_aa_data[\"Month\"]\n",
    "\n",
    "bookings_per_month = []\n",
    "for i in range(1,13):\n",
    "    Bookingstotal = team_aa_data[team_aa_data['Month'] == i]\n",
    "    bookings_per_month.append(len(Bookingstotal))\n",
    "    \n",
    "month = []\n",
    "for i in range (1,13):\n",
    "    month.append(i)\n",
    "    \n",
    "s = pd.Series(bookings_per_month, index=month)\n",
    "s.plot(kind=\"bar\", rot=0)\n",
    "plt.plot()"
   ]
  },
  {
   "cell_type": "code",
   "execution_count": null,
   "metadata": {},
   "outputs": [],
   "source": []
  },
  {
   "cell_type": "code",
   "execution_count": null,
   "metadata": {},
   "outputs": [],
   "source": []
  },
  {
   "cell_type": "code",
   "execution_count": null,
   "metadata": {},
   "outputs": [],
   "source": []
  }
 ],
 "metadata": {
  "kernelspec": {
   "display_name": "Python 3",
   "language": "python",
   "name": "python3"
  },
  "language_info": {
   "codemirror_mode": {
    "name": "ipython",
    "version": 3
   },
   "file_extension": ".py",
   "mimetype": "text/x-python",
   "name": "python",
   "nbconvert_exporter": "python",
   "pygments_lexer": "ipython3",
   "version": "3.7.4"
  }
 },
 "nbformat": 4,
 "nbformat_minor": 2
}
